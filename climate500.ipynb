{
 "cells": [
  {
   "cell_type": "code",
   "execution_count": 1,
   "metadata": {},
   "outputs": [],
   "source": [
    "import pycountry\n",
    "import pandas as pd\n",
    "import numpy as np\n",
    "import astropy.units as u\n",
    "from xlsx2csv import Xlsx2csv"
   ]
  },
  {
   "cell_type": "code",
   "execution_count": 2,
   "metadata": {},
   "outputs": [],
   "source": [
    "# Needed for pycountry to work correctly\n",
    "def get_country(country_name):\n",
    "    if country_name == \"Russia\":\n",
    "        return pycountry.countries.get(alpha_2=\"RU\")\n",
    "    if country_name == \"Turkey\":\n",
    "        return pycountry.countries.get(alpha_2=\"TR\")\n",
    "    if country_name == \"South Korea\":\n",
    "        return pycountry.countries.get(alpha_2=\"KR\")\n",
    "    if country_name == \"Taiwan\":\n",
    "        return pycountry.countries.get(alpha_2=\"TW\")\n",
    "    return pycountry.countries.get(name=country_name)"
   ]
  },
  {
   "cell_type": "code",
   "execution_count": 4,
   "metadata": {},
   "outputs": [],
   "source": [
    "## Source: https://www.top500.org/lists/green500/2024/06/\n",
    "Xlsx2csv(\"./data/green500_top_202406.xlsx\", outputencoding=\"utf-8\").convert(\"./data/green500_top_202406.csv\")\n",
    "green500 = pd.read_csv('./data/green500_top_202406.csv')\n",
    "\n",
    "## Source: https://ourworldindata.org/grapher/carbon-intensity-electricity\n",
    "# License: OurWorldInData.org/energy | CC BY [https://creativecommons.org/licenses/by/4.0/]\n",
    "carbon_intensities = pd.read_csv('./data/carbon-intensity-electricity.csv')\n",
    "\n",
    "green500[\"Carbon footprint [kgCO2e / PFlops-day]\"] = -1.0\n",
    "for index, row in green500.iterrows():\n",
    "    system_name = row['Name']\n",
    "    if system_name == \"nan\":\n",
    "        print(row['Site'])\n",
    "        green500.at[index, \"Name\"] = row['Site']\n",
    "    country_name = row['Country']\n",
    "\n",
    "    if np.isnan(row['Energy Efficiency [GFlops/Watts]']):\n",
    "        green500 = green500.drop(index)\n",
    "        continue\n",
    "    # Drop machines older than year X\n",
    "    # if row['Year'] < X:\n",
    "    #     green500 = green500.drop(index)\n",
    "    #     continue\n",
    "    country = get_country(country_name)\n",
    "    carbon_intensity = carbon_intensities[carbon_intensities['Code']==country.alpha_3]['Carbon intensity of electricity - gCO2/kWh'].values[0] * u.g / (u.kW * u.h)\n",
    "    energy_efficiency = row['Energy Efficiency [GFlops/Watts]'] * (u.GB/u.s) /u.Watt\n",
    "    carbon_footprint =  (carbon_intensity / energy_efficiency).to('kg Pbyte-1 s day-1').value #   [ kgCO2e / PFlops-day ]\n",
    "    green500.at[index, \"Carbon footprint [kgCO2e / PFlops-day]\"]  = round(carbon_footprint, 1)\n",
    "\n",
    "\n",
    "climate500 = green500.sort_values(by=[\"Carbon footprint [kgCO2e / PFlops-day]\"])\n",
    "\n",
    "climate500.to_csv(\"./data/climate500.csv\")\n"
   ]
  }
 ],
 "metadata": {
  "kernelspec": {
   "display_name": "base",
   "language": "python",
   "name": "python3"
  },
  "language_info": {
   "codemirror_mode": {
    "name": "ipython",
    "version": 3
   },
   "file_extension": ".py",
   "mimetype": "text/x-python",
   "name": "python",
   "nbconvert_exporter": "python",
   "pygments_lexer": "ipython3",
   "version": "3.10.12"
  }
 },
 "nbformat": 4,
 "nbformat_minor": 2
}
